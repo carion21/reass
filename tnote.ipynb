{
 "cells": [
  {
   "cell_type": "code",
   "execution_count": 1,
   "metadata": {},
   "outputs": [],
   "source": [
    "from classes.risque import Risque\n",
    "from classes.coassurance import Coassurance\n",
    "from classes.facultative import Facultative\n",
    "from classes.garantie import Garantie\n",
    "from classes.reassureur import Reassureur\n",
    "\n",
    "from ctest import AVENANT\n",
    "\n",
    "from classes.avenant import Avenant\n",
    "\n",
    "data = AVENANT\n"
   ]
  },
  {
   "cell_type": "code",
   "execution_count": 2,
   "metadata": {},
   "outputs": [
    {
     "name": "stdout",
     "output_type": "stream",
     "text": [
      "{'deja_traite': 0, 'nom': '', 'prenoms': '', 'activite': '', 'date_effet': '04/08/2022', 'date_emission': '04/08/2021', 'code_categorie': '', 'libelle_categorie': '', 'code_branche': '', 'libelle_branche': '', 'risques': [{'code_risque': '1', 'libelle_risque': '1', 'classe_risque': '1', 'libelle_classe_risque': '1', 'id_risque': '1', 'garanties': []}, {'code_risque': '', 'libelle_risque': '', 'classe_risque': '', 'libelle_classe_risque': '', 'id_risque': '5', 'garanties': []}], 'garanties': [{'id_risque': '', 'id_garantie': '5', 'code_garantie': '', 'libelle_branche_reass': '', 'capitaux': 1000, 'smp': 1500, 'prime_nette': 100}, {'id_risque': '', 'id_garantie': '4', 'code_garantie': '', 'libelle_branche_reass': '', 'capitaux': 1000, 'smp': 1500, 'prime_nette': 100}], 'facultatives': [{'id_facultative': '52', 'code_reass': '', 'code_branche_assurance': '4', 'libelle_branche_reass': '', 'prime_fac': '', 'montant_commission': '', 'capitaux_net': '', 'reassureurs': []}, {'id_facultative': '45', 'code_reass': '', 'code_branche_assurance': '5', 'libelle_branche_reass': '', 'prime_fac': '', 'montant_commission': '', 'capitaux_net': '', 'reassureurs': []}, {'id_facultative': '22', 'code_reass': '', 'code_branche_assurance': '', 'libelle_branche_reass': '', 'prime_fac': '', 'montant_commission': '', 'capitaux_net': '', 'reassureurs': []}, {'id_facultative': '24', 'code_reass': '', 'code_branche_assurance': '', 'libelle_branche_reass': '', 'prime_fac': '', 'montant_commission': '', 'capitaux_net': '', 'reassureurs': []}], 'coassurances': [{'statut': '', 'part_coass': '', 'nom_coassureur': '', 'taux_coass': '', 'id_coass': '65'}, {'statut': '', 'part_coass': '', 'nom_coassureur': '', 'taux_coass': '', 'id_coass': '21'}]}\n",
      "--------------------------\n"
     ]
    }
   ],
   "source": [
    "\n",
    "avenant = Avenant()\n",
    "avenant.from_dict(data)\n",
    "avenant.change_cas(1)\n",
    "\n",
    "print(avenant.to_dict())\n",
    "print(\"--------------------------\")\n"
   ]
  },
  {
   "cell_type": "code",
   "execution_count": 3,
   "metadata": {},
   "outputs": [
    {
     "data": {
      "text/plain": [
       "{'code_risque': '',\n",
       " 'libelle_risque': '1',\n",
       " 'classe_risque': '1',\n",
       " 'libelle_classe_risque': '1',\n",
       " 'id_risque': '',\n",
       " 'garanties': []}"
      ]
     },
     "execution_count": 3,
     "metadata": {},
     "output_type": "execute_result"
    }
   ],
   "source": [
    "risque = Risque()\n",
    "rd = {\n",
    "    \"code_risque\": \"\",\n",
    "    \"libelle_risque\": \"1\",\n",
    "    \"classe_risque\": \"1\",\n",
    "    \"libelle_classe_risque\": \"1\",\n",
    "    \"id_risque\": \"\",\n",
    "}\n",
    "risque.from_dict(rd)\n",
    "risque.to_dict()"
   ]
  },
  {
   "cell_type": "code",
   "execution_count": 4,
   "metadata": {},
   "outputs": [
    {
     "data": {
      "text/plain": [
       "True"
      ]
     },
     "execution_count": 4,
     "metadata": {},
     "output_type": "execute_result"
    }
   ],
   "source": [
    "avenant.add_risque(risque)"
   ]
  },
  {
   "cell_type": "code",
   "execution_count": 5,
   "metadata": {},
   "outputs": [
    {
     "data": {
      "text/plain": [
       "3"
      ]
     },
     "execution_count": 5,
     "metadata": {},
     "output_type": "execute_result"
    }
   ],
   "source": [
    "len(avenant.risques)"
   ]
  },
  {
   "cell_type": "code",
   "execution_count": 6,
   "metadata": {},
   "outputs": [
    {
     "data": {
      "text/plain": [
       "{'code_risque': '',\n",
       " 'libelle_risque': '',\n",
       " 'classe_risque': '',\n",
       " 'libelle_classe_risque': '',\n",
       " 'id_risque': '5',\n",
       " 'garanties': []}"
      ]
     },
     "execution_count": 6,
     "metadata": {},
     "output_type": "execute_result"
    }
   ],
   "source": [
    "r2 = avenant.risques[1]\n",
    "r2.to_dict()"
   ]
  },
  {
   "cell_type": "code",
   "execution_count": 7,
   "metadata": {},
   "outputs": [
    {
     "data": {
      "text/plain": [
       "True"
      ]
     },
     "execution_count": 7,
     "metadata": {},
     "output_type": "execute_result"
    }
   ],
   "source": [
    "avenant.remove_risque(r2)"
   ]
  },
  {
   "cell_type": "code",
   "execution_count": 8,
   "metadata": {},
   "outputs": [
    {
     "data": {
      "text/plain": [
       "2"
      ]
     },
     "execution_count": 8,
     "metadata": {},
     "output_type": "execute_result"
    }
   ],
   "source": [
    "len(avenant.risques)"
   ]
  },
  {
   "cell_type": "markdown",
   "metadata": {},
   "source": [
    "### COASSURANCES"
   ]
  },
  {
   "cell_type": "code",
   "execution_count": 9,
   "metadata": {},
   "outputs": [
    {
     "data": {
      "text/plain": [
       "2"
      ]
     },
     "execution_count": 9,
     "metadata": {},
     "output_type": "execute_result"
    }
   ],
   "source": [
    "co1 = {\n",
    "    \"statut\": \"\",\n",
    "    \"part_coass\": \"\",\n",
    "    \"nom_coassureur\": \"\",\n",
    "    \"taux_coass\": \"\",\n",
    "    \"id_coass\": \"\"\n",
    "}\n",
    "len(avenant.coassurances)"
   ]
  },
  {
   "cell_type": "code",
   "execution_count": 10,
   "metadata": {},
   "outputs": [
    {
     "data": {
      "text/plain": [
       "{'statut': '',\n",
       " 'part_coass': '',\n",
       " 'nom_coassureur': '',\n",
       " 'taux_coass': '',\n",
       " 'id_coass': ''}"
      ]
     },
     "execution_count": 10,
     "metadata": {},
     "output_type": "execute_result"
    }
   ],
   "source": [
    "coda = Coassurance()\n",
    "coda.from_dict(co1)\n",
    "coda.to_dict()"
   ]
  },
  {
   "cell_type": "code",
   "execution_count": 11,
   "metadata": {},
   "outputs": [
    {
     "data": {
      "text/plain": [
       "3"
      ]
     },
     "execution_count": 11,
     "metadata": {},
     "output_type": "execute_result"
    }
   ],
   "source": [
    "avenant.add_coassurance(coda)\n",
    "len(avenant.coassurances)"
   ]
  },
  {
   "cell_type": "code",
   "execution_count": 12,
   "metadata": {},
   "outputs": [
    {
     "data": {
      "text/plain": [
       "True"
      ]
     },
     "execution_count": 12,
     "metadata": {},
     "output_type": "execute_result"
    }
   ],
   "source": [
    "avenant.remove_coassurance(coda)"
   ]
  },
  {
   "cell_type": "code",
   "execution_count": 13,
   "metadata": {},
   "outputs": [
    {
     "data": {
      "text/plain": [
       "2"
      ]
     },
     "execution_count": 13,
     "metadata": {},
     "output_type": "execute_result"
    }
   ],
   "source": [
    "\n",
    "len(avenant.coassurances)"
   ]
  },
  {
   "cell_type": "markdown",
   "metadata": {},
   "source": [
    "### GARANTIES"
   ]
  },
  {
   "cell_type": "code",
   "execution_count": 14,
   "metadata": {},
   "outputs": [
    {
     "data": {
      "text/plain": [
       "{'id_risque': '1',\n",
       " 'id_garantie': '11',\n",
       " 'code_garantie': '',\n",
       " 'libelle_branche_reass': '',\n",
       " 'capitaux': 1000,\n",
       " 'smp': 1500,\n",
       " 'prime_nette': 100}"
      ]
     },
     "execution_count": 14,
     "metadata": {},
     "output_type": "execute_result"
    }
   ],
   "source": [
    "gd = {\n",
    "    \"code_garantie\": \"\",\n",
    "    \"libelle_branche_reass\": \"\",\n",
    "    \"capitaux\": 1000,\n",
    "    \"smp\": 1500,\n",
    "    \"prime_nette\": 100,\n",
    "    \"id_risque\": \"1\",\n",
    "    \"id_garantie\": \"11\"\n",
    "}\n",
    "ga = Garantie()\n",
    "ga.from_dict(gd)\n",
    "ga.to_dict()"
   ]
  },
  {
   "cell_type": "code",
   "execution_count": 15,
   "metadata": {},
   "outputs": [
    {
     "data": {
      "text/plain": [
       "{'deja_traite': 0,\n",
       " 'nom': '',\n",
       " 'prenoms': '',\n",
       " 'activite': '',\n",
       " 'date_effet': '04/08/2022',\n",
       " 'date_emission': '04/08/2021',\n",
       " 'code_categorie': '',\n",
       " 'libelle_categorie': '',\n",
       " 'code_branche': '',\n",
       " 'libelle_branche': '',\n",
       " 'risques': [{'code_risque': '1',\n",
       "   'libelle_risque': '1',\n",
       "   'classe_risque': '1',\n",
       "   'libelle_classe_risque': '1',\n",
       "   'id_risque': '1',\n",
       "   'garanties': []},\n",
       "  {'code_risque': '',\n",
       "   'libelle_risque': '1',\n",
       "   'classe_risque': '1',\n",
       "   'libelle_classe_risque': '1',\n",
       "   'id_risque': 'd514ef6e7da54bdc6b8fe9667f9a6e31c5618df8b51cbbfa787aed056e66c26f',\n",
       "   'garanties': []}],\n",
       " 'garanties': [{'id_risque': '',\n",
       "   'id_garantie': '5',\n",
       "   'code_garantie': '',\n",
       "   'libelle_branche_reass': '',\n",
       "   'capitaux': 1000,\n",
       "   'smp': 1500,\n",
       "   'prime_nette': 100},\n",
       "  {'id_risque': '',\n",
       "   'id_garantie': '4',\n",
       "   'code_garantie': '',\n",
       "   'libelle_branche_reass': '',\n",
       "   'capitaux': 1000,\n",
       "   'smp': 1500,\n",
       "   'prime_nette': 100}],\n",
       " 'facultatives': [{'id_facultative': '52',\n",
       "   'code_reass': '',\n",
       "   'code_branche_assurance': '4',\n",
       "   'libelle_branche_reass': '',\n",
       "   'prime_fac': '',\n",
       "   'montant_commission': '',\n",
       "   'capitaux_net': '',\n",
       "   'reassureurs': []},\n",
       "  {'id_facultative': '45',\n",
       "   'code_reass': '',\n",
       "   'code_branche_assurance': '5',\n",
       "   'libelle_branche_reass': '',\n",
       "   'prime_fac': '',\n",
       "   'montant_commission': '',\n",
       "   'capitaux_net': '',\n",
       "   'reassureurs': []},\n",
       "  {'id_facultative': '22',\n",
       "   'code_reass': '',\n",
       "   'code_branche_assurance': '',\n",
       "   'libelle_branche_reass': '',\n",
       "   'prime_fac': '',\n",
       "   'montant_commission': '',\n",
       "   'capitaux_net': '',\n",
       "   'reassureurs': []},\n",
       "  {'id_facultative': '24',\n",
       "   'code_reass': '',\n",
       "   'code_branche_assurance': '',\n",
       "   'libelle_branche_reass': '',\n",
       "   'prime_fac': '',\n",
       "   'montant_commission': '',\n",
       "   'capitaux_net': '',\n",
       "   'reassureurs': []}],\n",
       " 'coassurances': [{'statut': '',\n",
       "   'part_coass': '',\n",
       "   'nom_coassureur': '',\n",
       "   'taux_coass': '',\n",
       "   'id_coass': '65'},\n",
       "  {'statut': '',\n",
       "   'part_coass': '',\n",
       "   'nom_coassureur': '',\n",
       "   'taux_coass': '',\n",
       "   'id_coass': '21'}]}"
      ]
     },
     "execution_count": 15,
     "metadata": {},
     "output_type": "execute_result"
    }
   ],
   "source": [
    "avenant.to_dict()"
   ]
  },
  {
   "cell_type": "code",
   "execution_count": 16,
   "metadata": {},
   "outputs": [
    {
     "data": {
      "text/plain": [
       "2"
      ]
     },
     "execution_count": 16,
     "metadata": {},
     "output_type": "execute_result"
    }
   ],
   "source": [
    "len(avenant.garanties)"
   ]
  },
  {
   "cell_type": "code",
   "execution_count": 17,
   "metadata": {},
   "outputs": [
    {
     "data": {
      "text/plain": [
       "True"
      ]
     },
     "execution_count": 17,
     "metadata": {},
     "output_type": "execute_result"
    }
   ],
   "source": [
    "avenant.add_garantie(ga)"
   ]
  },
  {
   "cell_type": "code",
   "execution_count": 18,
   "metadata": {},
   "outputs": [
    {
     "data": {
      "text/plain": [
       "2"
      ]
     },
     "execution_count": 18,
     "metadata": {},
     "output_type": "execute_result"
    }
   ],
   "source": [
    "len(avenant.risques)"
   ]
  },
  {
   "cell_type": "code",
   "execution_count": 19,
   "metadata": {},
   "outputs": [
    {
     "data": {
      "text/plain": [
       "3"
      ]
     },
     "execution_count": 19,
     "metadata": {},
     "output_type": "execute_result"
    }
   ],
   "source": [
    "len(avenant.garanties)"
   ]
  },
  {
   "cell_type": "code",
   "execution_count": 20,
   "metadata": {},
   "outputs": [],
   "source": [
    "_, rc, i, = avenant.find_a_risque(\"1\") "
   ]
  },
  {
   "cell_type": "code",
   "execution_count": 21,
   "metadata": {},
   "outputs": [
    {
     "data": {
      "text/plain": [
       "0"
      ]
     },
     "execution_count": 21,
     "metadata": {},
     "output_type": "execute_result"
    }
   ],
   "source": [
    "i"
   ]
  },
  {
   "cell_type": "code",
   "execution_count": 22,
   "metadata": {},
   "outputs": [
    {
     "data": {
      "text/plain": [
       "{'code_risque': '1',\n",
       " 'libelle_risque': '1',\n",
       " 'classe_risque': '1',\n",
       " 'libelle_classe_risque': '1',\n",
       " 'id_risque': '1',\n",
       " 'garanties': [<classes.garantie.Garantie at 0x7fd87585c340>]}"
      ]
     },
     "execution_count": 22,
     "metadata": {},
     "output_type": "execute_result"
    }
   ],
   "source": [
    "rc.to_dict()"
   ]
  },
  {
   "cell_type": "code",
   "execution_count": 23,
   "metadata": {},
   "outputs": [
    {
     "data": {
      "text/plain": [
       "True"
      ]
     },
     "execution_count": 23,
     "metadata": {},
     "output_type": "execute_result"
    }
   ],
   "source": [
    "avenant.remove_risque(rc)"
   ]
  },
  {
   "cell_type": "code",
   "execution_count": 24,
   "metadata": {},
   "outputs": [
    {
     "data": {
      "text/plain": [
       "3"
      ]
     },
     "execution_count": 24,
     "metadata": {},
     "output_type": "execute_result"
    }
   ],
   "source": [
    "len(avenant.garanties)"
   ]
  },
  {
   "cell_type": "code",
   "execution_count": 25,
   "metadata": {},
   "outputs": [
    {
     "data": {
      "text/plain": [
       "{'id_risque': '1',\n",
       " 'id_garantie': '11',\n",
       " 'code_garantie': '',\n",
       " 'libelle_branche_reass': '',\n",
       " 'capitaux': 1000,\n",
       " 'smp': 1500,\n",
       " 'prime_nette': 100}"
      ]
     },
     "execution_count": 25,
     "metadata": {},
     "output_type": "execute_result"
    }
   ],
   "source": [
    "avenant.garanties[2].to_dict()"
   ]
  },
  {
   "cell_type": "markdown",
   "metadata": {},
   "source": [
    "### FACULTATIVES"
   ]
  },
  {
   "cell_type": "code",
   "execution_count": 26,
   "metadata": {},
   "outputs": [],
   "source": [
    "faca = {\n",
    "    \"code_reass\": \"\",\n",
    "    \"code_branche_assurance\": \"4\",\n",
    "    \"libelle_branche_reass\": \"\",\n",
    "    \"prime_fac\": \"\",\n",
    "    \"montant_commission\": \"\",\n",
    "    \"capitaux_net\": \"\",\n",
    "    \"id_facultative\": \"55\"\n",
    "}\n",
    "rea = {\n",
    "    \"reassureur\": \"ereat\",\n",
    "    \"taux_fac\": \"\",\n",
    "    \"taux_commission\": \"\",\n",
    "}\n",
    "reb = {\n",
    "    \"reassureur\": \"erebet\",\n",
    "    \"taux_fac\": \"\",\n",
    "    \"taux_commission\": \"\",\n",
    "}"
   ]
  },
  {
   "cell_type": "code",
   "execution_count": 27,
   "metadata": {},
   "outputs": [
    {
     "data": {
      "text/plain": [
       "{'id_facultative': '55',\n",
       " 'code_reass': '',\n",
       " 'code_branche_assurance': '4',\n",
       " 'libelle_branche_reass': '',\n",
       " 'prime_fac': '',\n",
       " 'montant_commission': '',\n",
       " 'capitaux_net': '',\n",
       " 'reassureurs': []}"
      ]
     },
     "execution_count": 27,
     "metadata": {},
     "output_type": "execute_result"
    }
   ],
   "source": [
    "fc = Facultative()\n",
    "fc.from_dict(faca)\n",
    "fc.to_dict()"
   ]
  },
  {
   "cell_type": "code",
   "execution_count": 28,
   "metadata": {},
   "outputs": [
    {
     "data": {
      "text/plain": [
       "{'reassureur': 'ereat', 'taux_fac': '', 'taux_commission': ''}"
      ]
     },
     "execution_count": 28,
     "metadata": {},
     "output_type": "execute_result"
    }
   ],
   "source": [
    "ra = Reassureur()\n",
    "ra.from_dict(rea)\n",
    "ra.to_dict()"
   ]
  },
  {
   "cell_type": "code",
   "execution_count": 29,
   "metadata": {},
   "outputs": [
    {
     "data": {
      "text/plain": [
       "{'reassureur': 'erebet', 'taux_fac': '', 'taux_commission': ''}"
      ]
     },
     "execution_count": 29,
     "metadata": {},
     "output_type": "execute_result"
    }
   ],
   "source": [
    "rb = Reassureur()\n",
    "rb.from_dict(reb)\n",
    "rb.to_dict()"
   ]
  },
  {
   "cell_type": "code",
   "execution_count": 30,
   "metadata": {},
   "outputs": [
    {
     "data": {
      "text/plain": [
       "0"
      ]
     },
     "execution_count": 30,
     "metadata": {},
     "output_type": "execute_result"
    }
   ],
   "source": [
    "len(fc.reassureurs)"
   ]
  },
  {
   "cell_type": "code",
   "execution_count": 31,
   "metadata": {},
   "outputs": [
    {
     "data": {
      "text/plain": [
       "2"
      ]
     },
     "execution_count": 31,
     "metadata": {},
     "output_type": "execute_result"
    }
   ],
   "source": [
    "fc.add_reassureur(ra)\n",
    "fc.add_reassureur(rb)\n",
    "len(fc.reassureurs)"
   ]
  },
  {
   "cell_type": "code",
   "execution_count": 32,
   "metadata": {},
   "outputs": [
    {
     "data": {
      "text/plain": [
       "{'id_facultative': '55',\n",
       " 'code_reass': '',\n",
       " 'code_branche_assurance': '4',\n",
       " 'libelle_branche_reass': '',\n",
       " 'prime_fac': '',\n",
       " 'montant_commission': '',\n",
       " 'capitaux_net': '',\n",
       " 'reassureurs': [<classes.reassureur.Reassureur at 0x7fd875839ee0>,\n",
       "  <classes.reassureur.Reassureur at 0x7fd875839f70>]}"
      ]
     },
     "execution_count": 32,
     "metadata": {},
     "output_type": "execute_result"
    }
   ],
   "source": [
    "fc.to_dict()"
   ]
  },
  {
   "cell_type": "code",
   "execution_count": 33,
   "metadata": {},
   "outputs": [
    {
     "data": {
      "text/plain": [
       "True"
      ]
     },
     "execution_count": 33,
     "metadata": {},
     "output_type": "execute_result"
    }
   ],
   "source": [
    "fc.remove_reassureur(rb)"
   ]
  },
  {
   "cell_type": "code",
   "execution_count": 34,
   "metadata": {},
   "outputs": [
    {
     "data": {
      "text/plain": [
       "{'id_facultative': '55',\n",
       " 'code_reass': '',\n",
       " 'code_branche_assurance': '4',\n",
       " 'libelle_branche_reass': '',\n",
       " 'prime_fac': '',\n",
       " 'montant_commission': '',\n",
       " 'capitaux_net': '',\n",
       " 'reassureurs': [<classes.reassureur.Reassureur at 0x7fd875839ee0>]}"
      ]
     },
     "execution_count": 34,
     "metadata": {},
     "output_type": "execute_result"
    }
   ],
   "source": [
    "fc.to_dict()"
   ]
  },
  {
   "cell_type": "code",
   "execution_count": 35,
   "metadata": {},
   "outputs": [
    {
     "data": {
      "text/plain": [
       "True"
      ]
     },
     "execution_count": 35,
     "metadata": {},
     "output_type": "execute_result"
    }
   ],
   "source": [
    "avenant.add_facultative(fc)"
   ]
  },
  {
   "cell_type": "code",
   "execution_count": 36,
   "metadata": {},
   "outputs": [
    {
     "data": {
      "text/plain": [
       "5"
      ]
     },
     "execution_count": 36,
     "metadata": {},
     "output_type": "execute_result"
    }
   ],
   "source": [
    "len(avenant.facultatives)"
   ]
  },
  {
   "cell_type": "code",
   "execution_count": 37,
   "metadata": {},
   "outputs": [
    {
     "data": {
      "text/plain": [
       "True"
      ]
     },
     "execution_count": 37,
     "metadata": {},
     "output_type": "execute_result"
    }
   ],
   "source": [
    "avenant.remove_facultative(fc)"
   ]
  },
  {
   "cell_type": "code",
   "execution_count": 38,
   "metadata": {},
   "outputs": [
    {
     "data": {
      "text/plain": [
       "4"
      ]
     },
     "execution_count": 38,
     "metadata": {},
     "output_type": "execute_result"
    }
   ],
   "source": [
    "len(avenant.facultatives)"
   ]
  },
  {
   "cell_type": "code",
   "execution_count": null,
   "metadata": {},
   "outputs": [],
   "source": [
    "av2 = Avenant"
   ]
  }
 ],
 "metadata": {
  "interpreter": {
   "hash": "752600d1682839083366a996c5ae3a241cd623dfe8cb749b629fbb06f6c81f07"
  },
  "kernelspec": {
   "display_name": "Python 3.9.7 ('base')",
   "language": "python",
   "name": "python3"
  },
  "language_info": {
   "codemirror_mode": {
    "name": "ipython",
    "version": 3
   },
   "file_extension": ".py",
   "mimetype": "text/x-python",
   "name": "python",
   "nbconvert_exporter": "python",
   "pygments_lexer": "ipython3",
   "version": "3.9.7"
  },
  "orig_nbformat": 4
 },
 "nbformat": 4,
 "nbformat_minor": 2
}
