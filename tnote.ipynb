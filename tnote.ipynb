{
 "cells": [
  {
   "cell_type": "code",
   "execution_count": 49,
   "metadata": {},
   "outputs": [],
   "source": [
    "from classes.risque import Risque\n",
    "from classes.coassurance import Coassurance\n",
    "from classes.facultative import Facultative\n",
    "from classes.garantie import Garantie\n",
    "from classes.reassureur import Reassureur\n",
    "\n",
    "from ctest import AVENANT\n",
    "\n",
    "from classes.avenant import Avenant\n",
    "\n",
    "data = AVENANT\n"
   ]
  },
  {
   "cell_type": "code",
   "execution_count": 50,
   "metadata": {},
   "outputs": [
    {
     "name": "stdout",
     "output_type": "stream",
     "text": [
      "{'deja_traite': 0, 'nom': '', 'prenoms': '', 'activite': '', 'date_effet': '04/08/2022', 'date_emission': '04/08/2021', 'code_categorie': '', 'libelle_categorie': '', 'code_branche': '', 'libelle_branche': '', 'risques': [{'code_risque': '1', 'libelle_risque': '1', 'classe_risque': '1', 'libelle_classe_risque': '1', 'id_risque': '1', 'garanties': []}, {'code_risque': '', 'libelle_risque': '', 'classe_risque': '', 'libelle_classe_risque': '', 'id_risque': '5', 'garanties': []}], 'garanties': [{'id_risque': '', 'id_garantie': '5', 'code_garantie': '', 'libellle_branche_reass': '', 'capitaux': 1000, 'smp': 1500, 'prime_nette': 100}, {'id_risque': '', 'id_garantie': '4', 'code_garantie': '', 'libellle_branche_reass': '', 'capitaux': 1000, 'smp': 1500, 'prime_nette': 100}], 'facultatives': [{'id_facultative': '52', 'code_reass': '', 'code_branche_assurance': '4', 'libelle_branche_reass': '', 'prime_fac': '', 'montant_commission': '', 'capitaux_net': '', 'reassureurs': []}, {'id_facultative': '45', 'code_reass': '', 'code_branche_assurance': '5', 'libelle_branche_reass': '', 'prime_fac': '', 'montant_commission': '', 'capitaux_net': '', 'reassureurs': []}, {'id_facultative': '22', 'code_reass': '', 'code_branche_assurance': '', 'libelle_branche_reass': '', 'prime_fac': '', 'montant_commission': '', 'capitaux_net': '', 'reassureurs': []}, {'id_facultative': '24', 'code_reass': '', 'code_branche_assurance': '', 'libelle_branche_reass': '', 'prime_fac': '', 'montant_commission': '', 'capitaux_net': '', 'reassureurs': []}], 'coassurances': [{'statut': '', 'part_coass': '', 'nom_coassureur': '', 'taux_coass': '', 'id_coass': '65'}, {'statut': '', 'part_coass': '', 'nom_coassureur': '', 'taux_coass': '', 'id_coass': '21'}]}\n",
      "--------------------------\n"
     ]
    }
   ],
   "source": [
    "\n",
    "avenant = Avenant()\n",
    "avenant.from_dict(data)\n",
    "avenant.change_cas(1)\n",
    "\n",
    "print(avenant.to_dict())\n",
    "print(\"--------------------------\")\n"
   ]
  },
  {
   "cell_type": "code",
   "execution_count": 51,
   "metadata": {},
   "outputs": [
    {
     "data": {
      "text/plain": [
       "{'code_risque': '',\n",
       " 'libelle_risque': '1',\n",
       " 'classe_risque': '1',\n",
       " 'libelle_classe_risque': '1',\n",
       " 'id_risque': '',\n",
       " 'garanties': []}"
      ]
     },
     "execution_count": 51,
     "metadata": {},
     "output_type": "execute_result"
    }
   ],
   "source": [
    "risque = Risque()\n",
    "rd = {\n",
    "    \"code_risque\": \"\",\n",
    "    \"libelle_risque\": \"1\",\n",
    "    \"classe_risque\": \"1\",\n",
    "    \"libelle_classe_risque\": \"1\",\n",
    "    \"id_risque\": \"\",\n",
    "}\n",
    "risque.from_dict(rd)\n",
    "risque.to_dict()"
   ]
  },
  {
   "cell_type": "code",
   "execution_count": 52,
   "metadata": {},
   "outputs": [
    {
     "data": {
      "text/plain": [
       "True"
      ]
     },
     "execution_count": 52,
     "metadata": {},
     "output_type": "execute_result"
    }
   ],
   "source": [
    "avenant.add_risque(risque)"
   ]
  },
  {
   "cell_type": "code",
   "execution_count": 53,
   "metadata": {},
   "outputs": [
    {
     "data": {
      "text/plain": [
       "3"
      ]
     },
     "execution_count": 53,
     "metadata": {},
     "output_type": "execute_result"
    }
   ],
   "source": [
    "len(avenant.risques)"
   ]
  },
  {
   "cell_type": "code",
   "execution_count": 54,
   "metadata": {},
   "outputs": [
    {
     "data": {
      "text/plain": [
       "{'code_risque': '',\n",
       " 'libelle_risque': '',\n",
       " 'classe_risque': '',\n",
       " 'libelle_classe_risque': '',\n",
       " 'id_risque': '5',\n",
       " 'garanties': []}"
      ]
     },
     "execution_count": 54,
     "metadata": {},
     "output_type": "execute_result"
    }
   ],
   "source": [
    "r2 = avenant.risques[1]\n",
    "r2.to_dict()"
   ]
  },
  {
   "cell_type": "code",
   "execution_count": 55,
   "metadata": {},
   "outputs": [
    {
     "data": {
      "text/plain": [
       "True"
      ]
     },
     "execution_count": 55,
     "metadata": {},
     "output_type": "execute_result"
    }
   ],
   "source": [
    "avenant.remove_risque(r2)"
   ]
  },
  {
   "cell_type": "code",
   "execution_count": 56,
   "metadata": {},
   "outputs": [
    {
     "data": {
      "text/plain": [
       "2"
      ]
     },
     "execution_count": 56,
     "metadata": {},
     "output_type": "execute_result"
    }
   ],
   "source": [
    "len(avenant.risques)"
   ]
  },
  {
   "cell_type": "markdown",
   "metadata": {},
   "source": [
    "### COASSURANCES"
   ]
  },
  {
   "cell_type": "code",
   "execution_count": 57,
   "metadata": {},
   "outputs": [
    {
     "data": {
      "text/plain": [
       "2"
      ]
     },
     "execution_count": 57,
     "metadata": {},
     "output_type": "execute_result"
    }
   ],
   "source": [
    "co1 = {\n",
    "    \"statut\": \"\",\n",
    "    \"part_coass\": \"\",\n",
    "    \"nom_coassureur\": \"\",\n",
    "    \"taux_coass\": \"\",\n",
    "    \"id_coass\": \"\"\n",
    "}\n",
    "len(avenant.coassurances)"
   ]
  },
  {
   "cell_type": "code",
   "execution_count": 58,
   "metadata": {},
   "outputs": [
    {
     "data": {
      "text/plain": [
       "{'statut': '',\n",
       " 'part_coass': '',\n",
       " 'nom_coassureur': '',\n",
       " 'taux_coass': '',\n",
       " 'id_coass': ''}"
      ]
     },
     "execution_count": 58,
     "metadata": {},
     "output_type": "execute_result"
    }
   ],
   "source": [
    "coda = Coassurance()\n",
    "coda.from_dict(co1)\n",
    "coda.to_dict()"
   ]
  },
  {
   "cell_type": "code",
   "execution_count": 59,
   "metadata": {},
   "outputs": [
    {
     "data": {
      "text/plain": [
       "3"
      ]
     },
     "execution_count": 59,
     "metadata": {},
     "output_type": "execute_result"
    }
   ],
   "source": [
    "avenant.add_coassurance(coda)\n",
    "len(avenant.coassurances)"
   ]
  },
  {
   "cell_type": "code",
   "execution_count": 60,
   "metadata": {},
   "outputs": [
    {
     "data": {
      "text/plain": [
       "True"
      ]
     },
     "execution_count": 60,
     "metadata": {},
     "output_type": "execute_result"
    }
   ],
   "source": [
    "avenant.remove_coassurance(coda)"
   ]
  },
  {
   "cell_type": "code",
   "execution_count": 61,
   "metadata": {},
   "outputs": [
    {
     "data": {
      "text/plain": [
       "2"
      ]
     },
     "execution_count": 61,
     "metadata": {},
     "output_type": "execute_result"
    }
   ],
   "source": [
    "\n",
    "len(avenant.coassurances)"
   ]
  },
  {
   "cell_type": "markdown",
   "metadata": {},
   "source": [
    "### GARANTIES"
   ]
  },
  {
   "cell_type": "code",
   "execution_count": 62,
   "metadata": {},
   "outputs": [
    {
     "data": {
      "text/plain": [
       "{'id_risque': '1',\n",
       " 'id_garantie': '11',\n",
       " 'code_garantie': '',\n",
       " 'libellle_branche_reass': '',\n",
       " 'capitaux': 1000,\n",
       " 'smp': 1500,\n",
       " 'prime_nette': 100}"
      ]
     },
     "execution_count": 62,
     "metadata": {},
     "output_type": "execute_result"
    }
   ],
   "source": [
    "gd = {\n",
    "    \"code_garantie\": \"\",\n",
    "    \"libelle_branche_reass\": \"\",\n",
    "    \"capitaux\": 1000,\n",
    "    \"smp\": 1500,\n",
    "    \"prime_nette\": 100,\n",
    "    \"id_risque\": \"1\",\n",
    "    \"id_garantie\": \"11\"\n",
    "}\n",
    "ga = Garantie()\n",
    "ga.from_dict(gd)\n",
    "ga.to_dict()"
   ]
  },
  {
   "cell_type": "code",
   "execution_count": 63,
   "metadata": {},
   "outputs": [
    {
     "data": {
      "text/plain": [
       "{'deja_traite': 0,\n",
       " 'nom': '',\n",
       " 'prenoms': '',\n",
       " 'activite': '',\n",
       " 'date_effet': '04/08/2022',\n",
       " 'date_emission': '04/08/2021',\n",
       " 'code_categorie': '',\n",
       " 'libelle_categorie': '',\n",
       " 'code_branche': '',\n",
       " 'libelle_branche': '',\n",
       " 'risques': [{'code_risque': '1',\n",
       "   'libelle_risque': '1',\n",
       "   'classe_risque': '1',\n",
       "   'libelle_classe_risque': '1',\n",
       "   'id_risque': '1',\n",
       "   'garanties': []},\n",
       "  {'code_risque': '',\n",
       "   'libelle_risque': '1',\n",
       "   'classe_risque': '1',\n",
       "   'libelle_classe_risque': '1',\n",
       "   'id_risque': 'c50386a12dfc28cd04dd4959b98c261cf5e0196b7bbbb2fd45297164e9645558',\n",
       "   'garanties': []}],\n",
       " 'garanties': [{'id_risque': '',\n",
       "   'id_garantie': '5',\n",
       "   'code_garantie': '',\n",
       "   'libellle_branche_reass': '',\n",
       "   'capitaux': 1000,\n",
       "   'smp': 1500,\n",
       "   'prime_nette': 100},\n",
       "  {'id_risque': '',\n",
       "   'id_garantie': '4',\n",
       "   'code_garantie': '',\n",
       "   'libellle_branche_reass': '',\n",
       "   'capitaux': 1000,\n",
       "   'smp': 1500,\n",
       "   'prime_nette': 100}],\n",
       " 'facultatives': [{'id_facultative': '52',\n",
       "   'code_reass': '',\n",
       "   'code_branche_assurance': '4',\n",
       "   'libelle_branche_reass': '',\n",
       "   'prime_fac': '',\n",
       "   'montant_commission': '',\n",
       "   'capitaux_net': '',\n",
       "   'reassureurs': []},\n",
       "  {'id_facultative': '45',\n",
       "   'code_reass': '',\n",
       "   'code_branche_assurance': '5',\n",
       "   'libelle_branche_reass': '',\n",
       "   'prime_fac': '',\n",
       "   'montant_commission': '',\n",
       "   'capitaux_net': '',\n",
       "   'reassureurs': []},\n",
       "  {'id_facultative': '22',\n",
       "   'code_reass': '',\n",
       "   'code_branche_assurance': '',\n",
       "   'libelle_branche_reass': '',\n",
       "   'prime_fac': '',\n",
       "   'montant_commission': '',\n",
       "   'capitaux_net': '',\n",
       "   'reassureurs': []},\n",
       "  {'id_facultative': '24',\n",
       "   'code_reass': '',\n",
       "   'code_branche_assurance': '',\n",
       "   'libelle_branche_reass': '',\n",
       "   'prime_fac': '',\n",
       "   'montant_commission': '',\n",
       "   'capitaux_net': '',\n",
       "   'reassureurs': []}],\n",
       " 'coassurances': [{'statut': '',\n",
       "   'part_coass': '',\n",
       "   'nom_coassureur': '',\n",
       "   'taux_coass': '',\n",
       "   'id_coass': '65'},\n",
       "  {'statut': '',\n",
       "   'part_coass': '',\n",
       "   'nom_coassureur': '',\n",
       "   'taux_coass': '',\n",
       "   'id_coass': '21'}]}"
      ]
     },
     "execution_count": 63,
     "metadata": {},
     "output_type": "execute_result"
    }
   ],
   "source": [
    "avenant.to_dict()"
   ]
  },
  {
   "cell_type": "code",
   "execution_count": 64,
   "metadata": {},
   "outputs": [
    {
     "data": {
      "text/plain": [
       "2"
      ]
     },
     "execution_count": 64,
     "metadata": {},
     "output_type": "execute_result"
    }
   ],
   "source": [
    "len(avenant.garanties)"
   ]
  },
  {
   "cell_type": "code",
   "execution_count": 65,
   "metadata": {},
   "outputs": [
    {
     "data": {
      "text/plain": [
       "True"
      ]
     },
     "execution_count": 65,
     "metadata": {},
     "output_type": "execute_result"
    }
   ],
   "source": [
    "avenant.add_garantie(ga)"
   ]
  },
  {
   "cell_type": "code",
   "execution_count": 66,
   "metadata": {},
   "outputs": [
    {
     "data": {
      "text/plain": [
       "2"
      ]
     },
     "execution_count": 66,
     "metadata": {},
     "output_type": "execute_result"
    }
   ],
   "source": [
    "len(avenant.risques)"
   ]
  },
  {
   "cell_type": "code",
   "execution_count": 89,
   "metadata": {},
   "outputs": [
    {
     "data": {
      "text/plain": [
       "3"
      ]
     },
     "execution_count": 89,
     "metadata": {},
     "output_type": "execute_result"
    }
   ],
   "source": [
    "len(avenant.garanties)"
   ]
  },
  {
   "cell_type": "code",
   "execution_count": 91,
   "metadata": {},
   "outputs": [],
   "source": [
    "_, rc, i, = avenant.find_a_risque(\"1\") "
   ]
  },
  {
   "cell_type": "code",
   "execution_count": 92,
   "metadata": {},
   "outputs": [],
   "source": [
    "i"
   ]
  },
  {
   "cell_type": "code",
   "execution_count": 93,
   "metadata": {},
   "outputs": [
    {
     "ename": "AttributeError",
     "evalue": "'NoneType' object has no attribute 'to_dict'",
     "output_type": "error",
     "traceback": [
      "\u001b[0;31m---------------------------------------------------------------------------\u001b[0m",
      "\u001b[0;31mAttributeError\u001b[0m                            Traceback (most recent call last)",
      "\u001b[0;32m/tmp/ipykernel_51126/2955918904.py\u001b[0m in \u001b[0;36m<module>\u001b[0;34m\u001b[0m\n\u001b[0;32m----> 1\u001b[0;31m \u001b[0mrc\u001b[0m\u001b[0;34m.\u001b[0m\u001b[0mto_dict\u001b[0m\u001b[0;34m(\u001b[0m\u001b[0;34m)\u001b[0m\u001b[0;34m\u001b[0m\u001b[0;34m\u001b[0m\u001b[0m\n\u001b[0m",
      "\u001b[0;31mAttributeError\u001b[0m: 'NoneType' object has no attribute 'to_dict'"
     ]
    }
   ],
   "source": [
    "rc.to_dict()"
   ]
  },
  {
   "cell_type": "code",
   "execution_count": 87,
   "metadata": {},
   "outputs": [
    {
     "data": {
      "text/plain": [
       "True"
      ]
     },
     "execution_count": 87,
     "metadata": {},
     "output_type": "execute_result"
    }
   ],
   "source": [
    "avenant.remove_risque(rc)"
   ]
  },
  {
   "cell_type": "code",
   "execution_count": 88,
   "metadata": {},
   "outputs": [
    {
     "data": {
      "text/plain": [
       "3"
      ]
     },
     "execution_count": 88,
     "metadata": {},
     "output_type": "execute_result"
    }
   ],
   "source": [
    "len(avenant.garanties)"
   ]
  },
  {
   "cell_type": "code",
   "execution_count": 90,
   "metadata": {},
   "outputs": [
    {
     "data": {
      "text/plain": [
       "{'id_risque': '1',\n",
       " 'id_garantie': '11',\n",
       " 'code_garantie': '',\n",
       " 'libellle_branche_reass': '',\n",
       " 'capitaux': 1000,\n",
       " 'smp': 1500,\n",
       " 'prime_nette': 100}"
      ]
     },
     "execution_count": 90,
     "metadata": {},
     "output_type": "execute_result"
    }
   ],
   "source": [
    "avenant.garanties[2].to_dict()"
   ]
  },
  {
   "cell_type": "markdown",
   "metadata": {},
   "source": [
    "### FACULTATIVES"
   ]
  },
  {
   "cell_type": "code",
   "execution_count": 74,
   "metadata": {},
   "outputs": [],
   "source": [
    "faca = {\n",
    "    \"code_reass\": \"\",\n",
    "    \"code_branche_assurance\": \"4\",\n",
    "    \"libelle_branche_reass\": \"\",\n",
    "    \"prime_fac\": \"\",\n",
    "    \"montant_commission\": \"\",\n",
    "    \"capitaux_net\": \"\",\n",
    "    \"id_facultative\": \"55\"\n",
    "}\n",
    "rea = {\n",
    "    \"reassureur\": \"ereat\",\n",
    "    \"taux_fac\": \"\",\n",
    "    \"taux_commission\": \"\",\n",
    "}\n",
    "reb = {\n",
    "    \"reassureur\": \"erebet\",\n",
    "    \"taux_fac\": \"\",\n",
    "    \"taux_commission\": \"\",\n",
    "}"
   ]
  },
  {
   "cell_type": "code",
   "execution_count": 75,
   "metadata": {},
   "outputs": [
    {
     "data": {
      "text/plain": [
       "{'id_facultative': '55',\n",
       " 'code_reass': '',\n",
       " 'code_branche_assurance': '4',\n",
       " 'libelle_branche_reass': '',\n",
       " 'prime_fac': '',\n",
       " 'montant_commission': '',\n",
       " 'capitaux_net': '',\n",
       " 'reassureurs': []}"
      ]
     },
     "execution_count": 75,
     "metadata": {},
     "output_type": "execute_result"
    }
   ],
   "source": [
    "fc = Facultative()\n",
    "fc.from_dict(faca)\n",
    "fc.to_dict()"
   ]
  },
  {
   "cell_type": "code",
   "execution_count": 76,
   "metadata": {},
   "outputs": [
    {
     "data": {
      "text/plain": [
       "{'reassureur': 'ereat', 'taux_fac': '', 'taux_commission': ''}"
      ]
     },
     "execution_count": 76,
     "metadata": {},
     "output_type": "execute_result"
    }
   ],
   "source": [
    "ra = Reassureur()\n",
    "ra.from_dict(rea)\n",
    "ra.to_dict()"
   ]
  },
  {
   "cell_type": "code",
   "execution_count": 77,
   "metadata": {},
   "outputs": [
    {
     "data": {
      "text/plain": [
       "{'reassureur': 'erebet', 'taux_fac': '', 'taux_commission': ''}"
      ]
     },
     "execution_count": 77,
     "metadata": {},
     "output_type": "execute_result"
    }
   ],
   "source": [
    "rb = Reassureur()\n",
    "rb.from_dict(reb)\n",
    "rb.to_dict()"
   ]
  },
  {
   "cell_type": "code",
   "execution_count": 78,
   "metadata": {},
   "outputs": [
    {
     "data": {
      "text/plain": [
       "0"
      ]
     },
     "execution_count": 78,
     "metadata": {},
     "output_type": "execute_result"
    }
   ],
   "source": [
    "len(fc.reassureurs)"
   ]
  },
  {
   "cell_type": "code",
   "execution_count": 79,
   "metadata": {},
   "outputs": [
    {
     "data": {
      "text/plain": [
       "2"
      ]
     },
     "execution_count": 79,
     "metadata": {},
     "output_type": "execute_result"
    }
   ],
   "source": [
    "fc.add_reassureur(ra)\n",
    "fc.add_reassureur(rb)\n",
    "len(fc.reassureurs)"
   ]
  },
  {
   "cell_type": "code",
   "execution_count": 80,
   "metadata": {},
   "outputs": [
    {
     "data": {
      "text/plain": [
       "{'id_facultative': '55',\n",
       " 'code_reass': '',\n",
       " 'code_branche_assurance': '4',\n",
       " 'libelle_branche_reass': '',\n",
       " 'prime_fac': '',\n",
       " 'montant_commission': '',\n",
       " 'capitaux_net': '',\n",
       " 'reassureurs': [<classes.reassureur.Reassureur at 0x7faf5c9390d0>,\n",
       "  <classes.reassureur.Reassureur at 0x7faf5c9393a0>]}"
      ]
     },
     "execution_count": 80,
     "metadata": {},
     "output_type": "execute_result"
    }
   ],
   "source": [
    "fc.to_dict()"
   ]
  },
  {
   "cell_type": "code",
   "execution_count": 81,
   "metadata": {},
   "outputs": [
    {
     "data": {
      "text/plain": [
       "True"
      ]
     },
     "execution_count": 81,
     "metadata": {},
     "output_type": "execute_result"
    }
   ],
   "source": [
    "fc.remove_reassureur(rb)"
   ]
  },
  {
   "cell_type": "code",
   "execution_count": 82,
   "metadata": {},
   "outputs": [
    {
     "data": {
      "text/plain": [
       "{'id_facultative': '55',\n",
       " 'code_reass': '',\n",
       " 'code_branche_assurance': '4',\n",
       " 'libelle_branche_reass': '',\n",
       " 'prime_fac': '',\n",
       " 'montant_commission': '',\n",
       " 'capitaux_net': '',\n",
       " 'reassureurs': [<classes.reassureur.Reassureur at 0x7faf5c9390d0>]}"
      ]
     },
     "execution_count": 82,
     "metadata": {},
     "output_type": "execute_result"
    }
   ],
   "source": [
    "fc.to_dict()"
   ]
  },
  {
   "cell_type": "code",
   "execution_count": 83,
   "metadata": {},
   "outputs": [
    {
     "data": {
      "text/plain": [
       "True"
      ]
     },
     "execution_count": 83,
     "metadata": {},
     "output_type": "execute_result"
    }
   ],
   "source": [
    "avenant.add_facultative(fc)"
   ]
  },
  {
   "cell_type": "code",
   "execution_count": 84,
   "metadata": {},
   "outputs": [
    {
     "data": {
      "text/plain": [
       "5"
      ]
     },
     "execution_count": 84,
     "metadata": {},
     "output_type": "execute_result"
    }
   ],
   "source": [
    "len(avenant.facultatives)"
   ]
  },
  {
   "cell_type": "code",
   "execution_count": 85,
   "metadata": {},
   "outputs": [
    {
     "data": {
      "text/plain": [
       "True"
      ]
     },
     "execution_count": 85,
     "metadata": {},
     "output_type": "execute_result"
    }
   ],
   "source": [
    "avenant.remove_facultative(fc)"
   ]
  },
  {
   "cell_type": "code",
   "execution_count": 86,
   "metadata": {},
   "outputs": [
    {
     "data": {
      "text/plain": [
       "4"
      ]
     },
     "execution_count": 86,
     "metadata": {},
     "output_type": "execute_result"
    }
   ],
   "source": [
    "len(avenant.facultatives)"
   ]
  },
  {
   "cell_type": "code",
   "execution_count": null,
   "metadata": {},
   "outputs": [],
   "source": []
  }
 ],
 "metadata": {
  "interpreter": {
   "hash": "752600d1682839083366a996c5ae3a241cd623dfe8cb749b629fbb06f6c81f07"
  },
  "kernelspec": {
   "display_name": "Python 3.9.7 ('base')",
   "language": "python",
   "name": "python3"
  },
  "language_info": {
   "codemirror_mode": {
    "name": "ipython",
    "version": 3
   },
   "file_extension": ".py",
   "mimetype": "text/x-python",
   "name": "python",
   "nbconvert_exporter": "python",
   "pygments_lexer": "ipython3",
   "version": "3.9.7"
  },
  "orig_nbformat": 4
 },
 "nbformat": 4,
 "nbformat_minor": 2
}
